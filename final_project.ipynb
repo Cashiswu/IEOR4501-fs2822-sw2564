{
 "cells": [
  {
   "cell_type": "markdown",
   "id": "32f8ca24",
   "metadata": {},
   "source": [
    "# Understanding Rent in NYC\n",
    "\n"
   ]
  },
  {
   "cell_type": "markdown",
   "id": "2f75fd94",
   "metadata": {},
   "source": [
    "## Project Setup"
   ]
  },
  {
   "cell_type": "code",
   "execution_count": 1,
   "id": "66dcde05",
   "metadata": {},
   "outputs": [],
   "source": [
    "# all import statements needed for the project, for example:\n",
    "import math\n",
    "import os\n",
    "\n",
    "import bs4\n",
    "import matplotlib.pyplot as plt\n",
    "import pandas as pd\n",
    "import requests\n",
    "import sqlalchemy as db\n",
    "import geopandas as gpd"
   ]
  },
  {
   "cell_type": "code",
   "execution_count": 2,
   "id": "9b583cbe",
   "metadata": {},
   "outputs": [],
   "source": [
    "#Historical monthly average rents by zip code from Zillow from\n",
    "\n",
    "#create data directory\n",
    "os.makedirs('data', exist_ok=True)\n",
    "def download_file(url, directory, filename):\n",
    "    # Create the directory if it doesn't exist\n",
    "    os.makedirs(directory, exist_ok=True)\n",
    "\n",
    "    # Download the file\n",
    "    response = requests.get(url)\n",
    "    with open(os.path.join(directory, filename), \"wb\") as file:\n",
    "        file.write(response.content)\n",
    "\n",
    "# Example usage\n",
    "url = \"https://drive.google.com/uc?id=1LdJkhLKTbSfVLSbiZA-S4CF6tLIWKkPj&export=download\"\n",
    "directory = \"data\"\n",
    "filename = \"zillow_rent_data.csv\"\n",
    "\n",
    "download_file(url, directory, filename)\n",
    " \n"
   ]
  },
  {
   "cell_type": "code",
   "execution_count": 3,
   "id": "3f1242c4",
   "metadata": {},
   "outputs": [
    {
     "name": "stdout",
     "output_type": "stream",
     "text": [
      "Data downloaded successfully.\n"
     ]
    }
   ],
   "source": [
    "\n",
    "#Historical data from NYC Open Data-trees\n",
    "TREE_URL = \"https://data.cityofnewyork.us/resource/nwxe-4ae8.geojson?$$app_token=bGN5ZHzRAwz2VxsMyRVEiycko\"\n",
    "\n",
    "# Send a GET request to the URL\n",
    "response = requests.get(url)\n",
    "\n",
    "# Check if the request was successful (status code 200)\n",
    "if response.status_code == 200:\n",
    "    # Save the content of the response to a file\n",
    "    with open(\"tree_census_2015.geojson\", \"wb\") as f:\n",
    "        f.write(response.content)\n",
    "    print(\"Data downloaded successfully.\")\n",
    "else:\n",
    "    print(\"Failed to download data. Status code:\", response.status_code)\n",
    "    \n"
   ]
  },
  {
   "cell_type": "code",
   "execution_count": 4,
   "id": "0449dcfb",
   "metadata": {},
   "outputs": [
    {
     "name": "stdout",
     "output_type": "stream",
     "text": [
      "Data downloaded successfully.\n"
     ]
    }
   ],
   "source": [
    "## Historical data from NYC Open Data-311complaints\n",
    "# Define the URL of the dataset\n",
    "url = \"https://data.cityofnewyork.us/resource/erm2-nwe9.geojson?$$app_token=bGN5ZHzRAwz2VxsMyRVEiycko\"\n",
    "\n",
    "# Send a GET request to the URL\n",
    "params = {\n",
    "    \"$where\": \"Latitude IS NOT NULL AND created_date >= '2023-02-28T00:00:00.000'\",\n",
    "    \"$limit\": 500000  # Set a limit to ensure all data within the date range is fetched\n",
    "}\n",
    "\n",
    "response = requests.get(url, params=params)\n",
    "\n",
    "# Check if the request was successful (status code 200)\n",
    "if response.status_code == 200:\n",
    "    # Save the content of the response to a file\n",
    "    with open(\"311_complaints.geojson\", \"wb\") as f:\n",
    "        f.write(response.content)\n",
    "    print(\"Data downloaded successfully.\")\n",
    "else:\n",
    "    print(\"Failed to download data. Status code:\", response.status_code)"
   ]
  },
  {
   "cell_type": "markdown",
   "id": "b39e41f2",
   "metadata": {},
   "source": [
    "## Don't know how to download the Shapefiles of NYC’s zip codes"
   ]
  },
  {
   "cell_type": "code",
   "execution_count": null,
   "id": "53fbc2de",
   "metadata": {},
   "outputs": [],
   "source": []
  },
  {
   "cell_type": "code",
   "execution_count": 5,
   "id": "d6601633",
   "metadata": {},
   "outputs": [
    {
     "name": "stdout",
     "output_type": "stream",
     "text": [
      "Directory 'queries' created successfully or already exists.\n"
     ]
    }
   ],
   "source": [
    "DATABASE_URL = \"sqlite:///project.db\"\n",
    "DATABASE_SCHEMA_FILE = \"schema.sql\"\n",
    "QUERY_DIRECTORY = \"queries\"\n",
    "# Make sure the QUERY_DIRECTORY exists\n",
    "try:\n",
    "    os.makedirs(QUERY_DIRECTORY, exist_ok=True)\n",
    "    print(f\"Directory '{QUERY_DIRECTORY}' created successfully or already exists.\")\n",
    "except Exception as e:\n",
    "    print(\"Error creating directory:\", e)"
   ]
  },
  {
   "cell_type": "markdown",
   "id": "26ad10ea",
   "metadata": {},
   "source": [
    "## Part 1: Data Preprocessing"
   ]
  },
  {
   "cell_type": "markdown",
   "id": "d0d53e24",
   "metadata": {},
   "source": [
    "### Load NYC Open Data on 311 complaints"
   ]
  },
  {
   "cell_type": "code",
   "execution_count": 11,
   "id": "58708809",
   "metadata": {},
   "outputs": [
    {
     "name": "stdout",
     "output_type": "stream",
     "text": [
      "311 complaints data loaded successfully.\n",
      "  location_state facility_type intersection_street_2      city location_zip  \\\n",
      "0                         None         WAVERLY PLACE  NEW YORK                \n",
      "1                         None           BAY PARKWAY  BROOKLYN                \n",
      "2                         None      WEST  193 STREET  NEW YORK                \n",
      "3                         None              BROADWAY  NEW YORK                \n",
      "4                         None             93 STREET  ELMHURST                \n",
      "\n",
      "  park_borough            latitude road_ramp        created_date agency  ...  \\\n",
      "0    MANHATTAN   40.73357025455224      None 2024-04-08 01:51:31    DPR  ...   \n",
      "1     BROOKLYN  40.609319269148564      None 2024-04-08 01:51:08   NYPD  ...   \n",
      "2    MANHATTAN   40.85721354383298      None 2024-04-08 01:50:57   NYPD  ...   \n",
      "3    MANHATTAN  40.813099639705094      None 2024-04-08 01:50:06   NYPD  ...   \n",
      "4       QUEENS  40.742439043264866      None 2024-04-08 01:49:50   NYPD  ...   \n",
      "\n",
      "  resolution_description community_board resolution_action_updated_date  \\\n",
      "0                   None    02 MANHATTAN                            NaT   \n",
      "1                   None     11 BROOKLYN                            NaT   \n",
      "2                   None    12 MANHATTAN            2024-04-08 02:43:44   \n",
      "3                   None    09 MANHATTAN                            NaT   \n",
      "4                   None       04 QUEENS            2024-04-08 01:54:33   \n",
      "\n",
      "  intersection_street_1 closed_date vehicle_type    cross_street_1    borough  \\\n",
      "0      WASHINGTON PLACE         NaT         None  WASHINGTON PLACE  MANHATTAN   \n",
      "1             21 AVENUE         NaT         None         21 AVENUE   BROOKLYN   \n",
      "2       FAIRVIEW AVENUE         NaT         None   FAIRVIEW AVENUE  MANHATTAN   \n",
      "3      AMSTERDAM AVENUE         NaT          Car  AMSTERDAM AVENUE  MANHATTAN   \n",
      "4             92 STREET         NaT         None         92 STREET     QUEENS   \n",
      "\n",
      "            landmark                    geometry  \n",
      "0       GROVE STREET  POINT (-74.00200 40.73357)  \n",
      "1  BAY RIDGE PARKWAY  POINT (-73.98922 40.60932)  \n",
      "2   BROADWAY TERRACE  POINT (-73.93128 40.85721)  \n",
      "3    LA SALLE STREET  POINT (-73.95800 40.81310)  \n",
      "4      CORONA AVENUE  POINT (-73.87222 40.74244)  \n",
      "\n",
      "[5 rows x 45 columns]\n"
     ]
    }
   ],
   "source": [
    "def load_311data(geojson_file):\n",
    "    try:\n",
    "        # Load the GeoJSON file into a GeoDataFrame\n",
    "        gdf = gpd.read_file(geojson_file)\n",
    "        print(\"311 complaints data loaded successfully.\")\n",
    "        return gdf\n",
    "    except Exception as e:\n",
    "        print(\"Error loading 311 complaints data:\", str(e))\n",
    "        return None\n",
    "\n",
    "# Example usage:\n",
    "geojson_file = \"311_complaints.geojson\"\n",
    "complaints_data = load_311data(geojson_file)\n",
    "\n",
    "# Step 2: Data Inspection\n",
    "print(complaints_data.head())"
   ]
  },
  {
   "cell_type": "code",
   "execution_count": null,
   "id": "16011366",
   "metadata": {},
   "outputs": [],
   "source": [
    "### Process NYC Open Data on 311 complaints"
   ]
  },
  {
   "cell_type": "code",
   "execution_count": 12,
   "id": "372d295e",
   "metadata": {},
   "outputs": [
    {
     "name": "stdout",
     "output_type": "stream",
     "text": [
      "  unique_key incident_zip        created_date       complaint_type\n",
      "0   60799240        10014 2024-04-08 01:51:31     New Tree Request\n",
      "1   60804005        11204 2024-04-08 01:51:08  Noise - Residential\n",
      "2   60797413        10040 2024-04-08 01:50:57      Illegal Parking\n",
      "3   60799308        10027 2024-04-08 01:50:06      Noise - Vehicle\n",
      "4   60803041        11373 2024-04-08 01:49:50   Noise - Commercial\n"
     ]
    }
   ],
   "source": [
    "def keep_columns(df, columns_to_keep):\n",
    "    # Select only the specified columns\n",
    "    df = df[columns_to_keep]\n",
    "    return df\n",
    "\n",
    "complaints_data_cleaned = keep_columns(complaints_data, ['unique_key','incident_zip','created_date','complaint_type'])\n",
    "print(complaints_data_cleaned.head())"
   ]
  },
  {
   "cell_type": "code",
   "execution_count": 13,
   "id": "8d04c726",
   "metadata": {},
   "outputs": [],
   "source": [
    "def lookup_coords_for_taxi_zone_id(zone_loc_id, loaded_taxi_zones):\n",
    "    raise NotImplementedError()"
   ]
  },
  {
   "cell_type": "markdown",
   "id": "32074561",
   "metadata": {},
   "source": [
    "### Calculate distance"
   ]
  },
  {
   "cell_type": "code",
   "execution_count": null,
   "id": "4cbbe6cc",
   "metadata": {},
   "outputs": [],
   "source": [
    "def calculate_distance_with_coords(from_coord, to_coord):\n",
    "    raise NotImplementedError()"
   ]
  },
  {
   "cell_type": "code",
   "execution_count": null,
   "id": "7480c312",
   "metadata": {},
   "outputs": [],
   "source": [
    "def calculate_distance_with_zones(from_zone, to_zone):\n",
    "    raise NotImplementedError()"
   ]
  },
  {
   "cell_type": "code",
   "execution_count": null,
   "id": "6d6abf52",
   "metadata": {},
   "outputs": [],
   "source": [
    "def add_distance_column(dataframe):\n",
    "    raise NotImplementedError()"
   ]
  },
  {
   "cell_type": "markdown",
   "id": "93daa717",
   "metadata": {},
   "source": [
    "### Process Zipcode Data"
   ]
  },
  {
   "cell_type": "code",
   "execution_count": 28,
   "id": "6e747100",
   "metadata": {},
   "outputs": [
    {
     "name": "stdout",
     "output_type": "stream",
     "text": [
      "<class 'geopandas.geodataframe.GeoDataFrame'>\n",
      "RangeIndex: 263 entries, 0 to 262\n",
      "Data columns (total 13 columns):\n",
      " #   Column      Non-Null Count  Dtype   \n",
      "---  ------      --------------  -----   \n",
      " 0   ZIPCODE     263 non-null    object  \n",
      " 1   BLDGZIP     263 non-null    object  \n",
      " 2   PO_NAME     263 non-null    object  \n",
      " 3   POPULATION  263 non-null    float64 \n",
      " 4   AREA        263 non-null    float64 \n",
      " 5   STATE       263 non-null    object  \n",
      " 6   COUNTY      263 non-null    object  \n",
      " 7   ST_FIPS     263 non-null    object  \n",
      " 8   CTY_FIPS    263 non-null    object  \n",
      " 9   URL         263 non-null    object  \n",
      " 10  SHAPE_AREA  263 non-null    float64 \n",
      " 11  SHAPE_LEN   263 non-null    float64 \n",
      " 12  geometry    263 non-null    geometry\n",
      "dtypes: float64(4), geometry(1), object(8)\n",
      "memory usage: 26.8+ KB\n",
      "None\n",
      "  ZIPCODE                                           geometry\n",
      "0   11436  POLYGON ((1038098.252 188138.380, 1038141.936 ...\n",
      "1   11213  POLYGON ((1001613.713 186926.440, 1002314.243 ...\n",
      "2   11212  POLYGON ((1011174.276 183696.338, 1011373.584 ...\n",
      "3   11225  POLYGON ((995908.365 183617.613, 996522.848 18...\n",
      "4   11218  POLYGON ((991997.113 176307.496, 992042.798 17...\n"
     ]
    }
   ],
   "source": [
    "def load_Zipcode_data(shapefile_dir):\n",
    "    # Path to the directory containing the shapefile\n",
    "# Load the shapefile into a GeoDataFrame\n",
    "    gdf = gpd.read_file(shapefile_dir)\n",
    "    return gdf\n",
    "zipcodes=load_Zipcode_data(\"data/nyc_zipcodes.shp\")\n",
    "print(zipcodes.info())\n",
    "\n",
    "def keep_Zipcode_columns(df,columns_to_keep):\n",
    "    df=df[columns_to_keep]\n",
    "    \n",
    "    return df\n",
    "\n",
    "zipcodes_data_cleaned=keep_Zipcode_columns(zipcodes,[\"ZIPCODE\",\"geometry\"])\n",
    "print(zipcodes_data_cleaned.head())"
   ]
  },
  {
   "cell_type": "markdown",
   "id": "094b4d6d",
   "metadata": {},
   "source": [
    "### Processing Zillow Rent Data"
   ]
  },
  {
   "cell_type": "code",
   "execution_count": 10,
   "id": "7c58e3a2",
   "metadata": {},
   "outputs": [
    {
     "name": "stdout",
     "output_type": "stream",
     "text": [
      "            RegionID      SizeRank    RegionName   2015-01-31   2015-02-28  \\\n",
      "count     575.000000    575.000000    575.000000   575.000000   575.000000   \n",
      "mean    87999.222609   1965.786087  52016.845217  1403.794237  1412.462501   \n",
      "std     51370.757623   1901.496671  30635.660443   628.477602   635.431388   \n",
      "min     58627.000000      1.000000   2113.000000   551.829341   549.959262   \n",
      "25%     70823.500000    530.000000  30033.000000  1000.788457  1003.254599   \n",
      "50%     73201.000000   1339.000000  34698.000000  1229.841194  1231.005300   \n",
      "75%     94842.500000   2794.500000  85208.500000  1608.809833  1610.500914   \n",
      "max    417444.000000  12215.000000  98503.000000  5342.134698  5545.637773   \n",
      "\n",
      "        2015-03-31   2015-04-30   2015-05-31   2015-06-30   2015-07-31  ...  \\\n",
      "count   575.000000   575.000000   575.000000   575.000000   575.000000  ...   \n",
      "mean   1422.872980  1434.340943  1444.530315  1454.691224  1463.191322  ...   \n",
      "std     643.096303   650.660652   655.669486   662.678389   666.387341  ...   \n",
      "min     552.157170   554.960823   565.465233   573.144449   575.277202  ...   \n",
      "25%    1013.631471  1024.589052  1030.597286  1041.304242  1047.494024  ...   \n",
      "50%    1235.278096  1251.205800  1259.265848  1264.197386  1267.072253  ...   \n",
      "75%    1629.219264  1650.999553  1666.087466  1677.305015  1681.806377  ...   \n",
      "max    5805.423194  5762.407855  5712.534426  5813.091613  5950.307548  ...   \n",
      "\n",
      "         2023-04-30    2023-05-31    2023-06-30    2023-07-31    2023-08-31  \\\n",
      "count    575.000000    575.000000    575.000000    575.000000    575.000000   \n",
      "mean    2268.139866   2285.594990   2299.685555   2310.370988   2314.175098   \n",
      "std      845.241467    854.772948    869.328044    879.925943    882.142603   \n",
      "min     1007.059458   1005.203783   1010.989462   1021.010933   1041.710607   \n",
      "25%     1789.566788   1802.366592   1803.724157   1808.583044   1797.148632   \n",
      "50%     2042.707683   2066.446052   2068.816703   2083.580958   2080.453529   \n",
      "75%     2513.409775   2531.752232   2551.614729   2571.064774   2576.011762   \n",
      "max    10165.891400  10345.602611  10667.830567  10870.010082  10798.831214   \n",
      "\n",
      "         2023-09-30   2023-10-31   2023-11-30   2023-12-31   2024-01-31  \n",
      "count    575.000000   575.000000   575.000000   575.000000   575.000000  \n",
      "mean    2310.688197  2303.956414  2293.827998  2288.872267  2290.400188  \n",
      "std      873.620427   865.216095   853.430650   848.431534   846.930950  \n",
      "min     1035.785753  1019.024743  1021.478817  1027.969355  1054.737374  \n",
      "25%     1793.349818  1790.476551  1798.480919  1801.923912  1795.178097  \n",
      "50%     2073.744781  2066.049490  2056.236119  2052.843051  2056.546699  \n",
      "75%     2582.737288  2579.546200  2571.329558  2560.133286  2562.828567  \n",
      "max    10098.264573  9677.053659  9499.390217  9655.948887  9657.500000  \n",
      "\n",
      "[8 rows x 112 columns]\n",
      "    RegionID  SizeRank  RegionName RegionType StateName State           City  \\\n",
      "0      91982         1       77494        zip        TX    TX           Katy   \n",
      "2      91940         3       77449        zip        TX    TX           Katy   \n",
      "8      91926        11       77433        zip        TX    TX        Cypress   \n",
      "16     62037        19       11226        zip        NY    NY       New York   \n",
      "18     70829        21       30044        zip        GA    GA  Lawrenceville   \n",
      "\n",
      "                                    Metro        CountyName   2015-01-31  ...  \\\n",
      "0    Houston-The Woodlands-Sugar Land, TX  Fort Bend County  1471.214336  ...   \n",
      "2    Houston-The Woodlands-Sugar Land, TX     Harris County  1285.448996  ...   \n",
      "8    Houston-The Woodlands-Sugar Land, TX     Harris County  1350.951013  ...   \n",
      "16  New York-Newark-Jersey City, NY-NJ-PA      Kings County  1868.105728  ...   \n",
      "18   Atlanta-Sandy Springs-Alpharetta, GA   Gwinnett County  1102.686034  ...   \n",
      "\n",
      "     2023-04-30   2023-05-31   2023-06-30   2023-07-31   2023-08-31  \\\n",
      "0   1843.953065  1853.546220  1860.805060  1873.335787  1879.080480   \n",
      "2   1799.232097  1803.978538  1815.603187  1824.661645  1837.338997   \n",
      "8   1882.654529  1881.873450  1908.720996  1941.138293  1965.196968   \n",
      "16  2613.659650  2633.525698  2662.290709  2679.586231  2693.602946   \n",
      "18  2058.256657  2050.162966  2032.137633  1993.185884  1991.503042   \n",
      "\n",
      "     2023-09-30   2023-10-31   2023-11-30   2023-12-31   2024-01-31  \n",
      "0   1882.092604  1877.636803  1857.636589  1846.701735  1839.654960  \n",
      "2   1837.127291  1822.343233  1809.231267  1813.118556  1830.410884  \n",
      "8   1997.556435  1984.275828  1962.842219  1886.411739  1867.679966  \n",
      "16  2672.819878  2644.929685  2644.410748  2652.155298  2680.780024  \n",
      "18  1935.298976  1946.574119  1920.301442  1987.412100  1995.192319  \n",
      "\n",
      "[5 rows x 118 columns]\n",
      "<class 'pandas.core.frame.DataFrame'>\n",
      "Int64Index: 575 entries, 0 to 6479\n",
      "Columns: 118 entries, RegionID to 2024-01-31\n",
      "dtypes: float64(109), int64(3), object(6)\n",
      "memory usage: 534.6+ KB\n",
      "None\n"
     ]
    }
   ],
   "source": [
    "def load_Zillow_Rent_data(csv_file):\n",
    "    df = pd.read_csv(csv_file)\n",
    "    df=df.dropna()\n",
    "    return df\n",
    "rent_data=load_Zillow_Rent_data(\"zillow_rent_data.csv\")\n",
    "print(rent_data.describe())\n",
    "print(rent_data.head())\n",
    "print(rent_data.info())\n",
    "\n",
    "def keep_Zillow_Rent_columns(df,columns_to_keep):\n",
    "    df=df[columns_to_keep]\n",
    "    \n",
    "    return df\n",
    "\n",
    "rent_data_cleaned=keep_Zillow_Rent_columns(rent_data,[\"RegionID\",\"2024-01-31\",\"RegionName\"])\n"
   ]
  },
  {
   "cell_type": "code",
   "execution_count": 29,
   "id": "cebf9042",
   "metadata": {},
   "outputs": [
    {
     "name": "stdout",
     "output_type": "stream",
     "text": [
      "    RegionID   2024-01-31  RegionName\n",
      "0      91982  1839.654960       77494\n",
      "2      91940  1830.410884       77449\n",
      "8      91926  1867.679966       77433\n",
      "16     62037  2680.780024       11226\n",
      "18     70829  1995.192319       30044\n"
     ]
    }
   ],
   "source": [
    "print(rent_data_cleaned.head())"
   ]
  },
  {
   "cell_type": "markdown",
   "id": "45a15cbb",
   "metadata": {},
   "source": [
    "### Processing NYC Open Data on Trees"
   ]
  },
  {
   "cell_type": "code",
   "execution_count": 14,
   "id": "0ec5370f",
   "metadata": {},
   "outputs": [
    {
     "name": "stdout",
     "output_type": "stream",
     "text": [
      "Error loading Trees data: 'tree_census_2015.geojson' not recognized as a supported file format.\n",
      "Tree data not loaded successfully.\n"
     ]
    }
   ],
   "source": [
    "def load_trees_data(geojson_file):\n",
    "    try:\n",
    "        trees_data = gpd.read_file(geojson_file)\n",
    "        return trees_data\n",
    "    except Exception as e:\n",
    "        print(f\"Error loading Trees data: {e}\")\n",
    "        return None\n",
    "\n",
    "# Example usage:\n",
    "geojson_file = \"tree_census_2015.geojson\"\n",
    "trees_data = load_trees_data(geojson_file)\n",
    "\n",
    "# Step 2: Data Inspection\n",
    "if trees_data is not None:\n",
    "    print(trees_data.head())\n",
    "    print(trees_data.info())\n",
    "else:\n",
    "    print(\"Tree data not loaded successfully.\")"
   ]
  },
  {
   "cell_type": "code",
   "execution_count": null,
   "id": "72db63ee",
   "metadata": {},
   "outputs": [],
   "source": [
    "complaints_data_cleaned = keep_columns(complaints_data, ['unique_key', ''])"
   ]
  },
  {
   "cell_type": "markdown",
   "id": "9358e4b4",
   "metadata": {},
   "source": [
    "## Storing Data"
   ]
  },
  {
   "cell_type": "code",
   "execution_count": 44,
   "id": "b9965e71",
   "metadata": {
    "scrolled": true
   },
   "outputs": [
    {
     "name": "stdout",
     "output_type": "stream",
     "text": [
      "createdb: error: database creation failed: ERROR:  database \"Project_Database\" already exists\n",
      "ERROR:  extension \"postgis\" already exists\n"
     ]
    }
   ],
   "source": [
    "!createdb Project_Database\n",
    "!psql --dbname Project_Database -c 'CREATE EXTENSION postgis;'\n"
   ]
  },
  {
   "cell_type": "code",
   "execution_count": 50,
   "id": "dd8f9e8c",
   "metadata": {},
   "outputs": [
    {
     "name": "stdout",
     "output_type": "stream",
     "text": [
      "Collecting psycopg2-binary\n",
      "  Obtaining dependency information for psycopg2-binary from https://files.pythonhosted.org/packages/a5/ac/702d300f3df169b9d0cbef0340d9f34a78bc18dc2dbafbcb39ff0f165cf8/psycopg2_binary-2.9.9-cp311-cp311-macosx_10_9_x86_64.whl.metadata\n",
      "  Downloading psycopg2_binary-2.9.9-cp311-cp311-macosx_10_9_x86_64.whl.metadata (4.4 kB)\n",
      "Downloading psycopg2_binary-2.9.9-cp311-cp311-macosx_10_9_x86_64.whl (2.8 MB)\n",
      "\u001b[2K   \u001b[90m━━━━━━━━━━━━━━━━━━━━━━━━━━━━━━━━━━━━━━━━\u001b[0m \u001b[32m2.8/2.8 MB\u001b[0m \u001b[31m7.2 MB/s\u001b[0m eta \u001b[36m0:00:00\u001b[0m:00:01\u001b[0m00:01\u001b[0m\n",
      "\u001b[?25hInstalling collected packages: psycopg2-binary\n",
      "Successfully installed psycopg2-binary-2.9.9\n"
     ]
    }
   ],
   "source": [
    "!pip install psycopg2-binary"
   ]
  },
  {
   "cell_type": "code",
   "execution_count": 54,
   "id": "f617f53b",
   "metadata": {},
   "outputs": [
    {
     "name": "stdout",
     "output_type": "stream",
     "text": [
      "Connection successful\n",
      "Connection closed\n"
     ]
    }
   ],
   "source": [
    "import psycopg2\n",
    "\n",
    "dbname = \"Project_Database\"\n",
    "user = \"sfm\"\n",
    "host = \"localhost\"\n",
    "port = \"5432\"\n",
    "\n",
    "try:\n",
    "    conn = psycopg2.connect(\n",
    "        dbname=dbname,\n",
    "        user=user,\n",
    "        host=host,\n",
    "        port=port\n",
    "    )\n",
    "    print(\"Connection successful\")\n",
    "\n",
    "    # Do some operations with the database here\n",
    "\n",
    "    # Close the connection\n",
    "    conn.close()\n",
    "    print(\"Connection closed\")\n",
    "except psycopg2.Error as e:\n",
    "    print(\"Unable to connect to the database:\", e)"
   ]
  },
  {
   "cell_type": "code",
   "execution_count": 59,
   "id": "f3529cf6",
   "metadata": {},
   "outputs": [],
   "source": [
    "\n",
    "engine = db.create_engine(DATABASE_URL)"
   ]
  },
  {
   "cell_type": "code",
   "execution_count": 68,
   "id": "d2bea0ff",
   "metadata": {},
   "outputs": [],
   "source": [
    "# if using SQL (as opposed to SQLAlchemy), define the commands \n",
    "# to create your 4 tables/dataframes\n",
    "NYC_zip_codes_SCHEMA = \"\"\"\n",
    "CREATE TABLE IF NOT EXISTS Zip_Code\n",
    "(\n",
    "    id SERIAL PRIMARY KEY,\n",
    "    zipcode INTEGER,\n",
    "    geometry GEOGRAPHY(POINT, 4326)\n",
    ")\n",
    "\"\"\"\n",
    "\n",
    "ThreeOneOne_complaints_SCHEMA = \"\"\"\n",
    "CREATE TABLE IF NOT EXISTS Complaint\n",
    "(\n",
    "    unique_key SERIAL PRIMARY KEY,\n",
    "    incident_zip INTEGER,\n",
    "    created_date TIMESTAMP,\n",
    "    complaint_type TEXT\n",
    ")\n",
    "\"\"\"\n",
    "\n",
    "Historical_Average_Rents_SCHEMA = \"\"\"\n",
    "CREATE TABLE IF NOT EXISTS Rent\n",
    "(\n",
    "    id SERIAL PRIMARY KEY,\n",
    "    RegionID INTEGER,\n",
    "    \"2024-01-31\" FLOAT,\n",
    "    RegionName INTEGER\n",
    ")\n",
    "\"\"\"\n",
    "\n"
   ]
  },
  {
   "cell_type": "code",
   "execution_count": 22,
   "id": "c0721c5c",
   "metadata": {},
   "outputs": [],
   "source": [
    "Trees_SCHEMA = \"\"\"\n",
    "CREATE TABLE IF NOT EXISTS Tree\n",
    "(\n",
    "    id INTEGER PRIMARY KEY,\n",
    "    spc_latin TEXT,\n",
    "    health TEXT\n",
    "    status TEXT\n",
    "    the_geom GEOMETRY(Point, 4326)\n",
    ")\n",
    "\"\"\""
   ]
  },
  {
   "cell_type": "code",
   "execution_count": 69,
   "id": "5f41e54b",
   "metadata": {},
   "outputs": [],
   "source": [
    "# create that required schema.sql file\n",
    "with open(DATABASE_SCHEMA_FILE, \"w\") as f:\n",
    "    f.write(NYC_zip_codes_SCHEMA)\n",
    "    f.write(ThreeOneOne_complaints_SCHEMA)\n",
    "    f.write(Historical_Average_Rents_SCHEMA)"
   ]
  },
  {
   "cell_type": "code",
   "execution_count": null,
   "id": "fb0c09c6",
   "metadata": {},
   "outputs": [],
   "source": [
    "    f.write(Trees_SCHEMA)"
   ]
  },
  {
   "cell_type": "code",
   "execution_count": 70,
   "id": "fb40c899",
   "metadata": {},
   "outputs": [
    {
     "ename": "SyntaxError",
     "evalue": "syntax error at or near \"CREATE\"\nLINE 9: CREATE TABLE IF NOT EXISTS Complaint\n        ^\n",
     "output_type": "error",
     "traceback": [
      "\u001b[0;31m---------------------------------------------------------------------------\u001b[0m",
      "\u001b[0;31mSyntaxError\u001b[0m                               Traceback (most recent call last)",
      "Cell \u001b[0;32mIn[70], line 13\u001b[0m\n\u001b[1;32m     10\u001b[0m \u001b[38;5;28;01mwith\u001b[39;00m conn\u001b[38;5;241m.\u001b[39mcursor() \u001b[38;5;28;01mas\u001b[39;00m cur:\n\u001b[1;32m     11\u001b[0m     \u001b[38;5;66;03m# Read and execute the schema files\u001b[39;00m\n\u001b[1;32m     12\u001b[0m     \u001b[38;5;28;01mwith\u001b[39;00m \u001b[38;5;28mopen\u001b[39m(DATABASE_SCHEMA_FILE, \u001b[38;5;124m'\u001b[39m\u001b[38;5;124mr\u001b[39m\u001b[38;5;124m'\u001b[39m) \u001b[38;5;28;01mas\u001b[39;00m f:\n\u001b[0;32m---> 13\u001b[0m         cur\u001b[38;5;241m.\u001b[39mexecute(f\u001b[38;5;241m.\u001b[39mread())\n\u001b[1;32m     15\u001b[0m \u001b[38;5;66;03m# Commit the changes\u001b[39;00m\n\u001b[1;32m     16\u001b[0m conn\u001b[38;5;241m.\u001b[39mcommit()\n",
      "\u001b[0;31mSyntaxError\u001b[0m: syntax error at or near \"CREATE\"\nLINE 9: CREATE TABLE IF NOT EXISTS Complaint\n        ^\n"
     ]
    }
   ],
   "source": [
    "# Connect to your PostgreSQL database\n",
    "conn = psycopg2.connect(\n",
    "    dbname=\"Project_Database\",\n",
    "    user=\"sfm\",\n",
    "    host=\"localhost\",\n",
    "    port=\"5432\"\n",
    ")\n",
    "\n",
    "# Open a cursor to perform database operations\n",
    "with conn.cursor() as cur:\n",
    "    # Read and execute the schema files\n",
    "    with open(DATABASE_SCHEMA_FILE, 'r') as f:\n",
    "        cur.execute(f.read())\n",
    "\n",
    "# Commit the changes\n",
    "conn.commit()\n",
    "\n",
    "# Close the connection\n",
    "conn.close()"
   ]
  },
  {
   "cell_type": "markdown",
   "id": "c122964f",
   "metadata": {},
   "source": [
    "### Add Data to Database"
   ]
  },
  {
   "cell_type": "code",
   "execution_count": null,
   "id": "0e68a363",
   "metadata": {},
   "outputs": [],
   "source": [
    "def write_dataframes_to_table(table_to_df_dict):\n",
    "    raise NotImplemented()"
   ]
  },
  {
   "cell_type": "code",
   "execution_count": null,
   "id": "45d6c06c",
   "metadata": {},
   "outputs": [],
   "source": [
    "map_table_name_to_dataframe = {\n",
    "    \"Zip_Code\": taxi_data,\n",
    "    \"Complaint\": complaints_data_cleaned,\n",
    "    \"Rent\": rent_data_cleaned,\n",
    "    \"Tree\": daily_data,\n",
    "}"
   ]
  },
  {
   "cell_type": "code",
   "execution_count": null,
   "id": "74004f96",
   "metadata": {},
   "outputs": [],
   "source": [
    "write_dataframes_to_table(map_table_name_to_dataframe)"
   ]
  },
  {
   "cell_type": "markdown",
   "id": "8cb6e33e",
   "metadata": {},
   "source": [
    "## Part 3: Understanding the Data"
   ]
  },
  {
   "cell_type": "code",
   "execution_count": null,
   "id": "6a849e92",
   "metadata": {},
   "outputs": [],
   "source": [
    "# Helper function to write the queries to file\n",
    "QUERY_DIRECTORY = \"queries\"\n",
    "\n",
    "def write_query_to_file(query, filename):\n",
    "    filepath = os.path.join(QUERY_DIRECTORY, filename)\n",
    "    with open(filepath, 'w') as file:\n",
    "        file.write(query)"
   ]
  },
  {
   "cell_type": "markdown",
   "id": "79ef6fe0",
   "metadata": {},
   "source": [
    "### Query 1"
   ]
  },
  {
   "cell_type": "code",
   "execution_count": null,
   "id": "db871d3c",
   "metadata": {},
   "outputs": [],
   "source": [
    "QUERY_1_FILENAME = \"complaints_by_zipcode.sql\"\n",
    "\n",
    "QUERY_1 = \"\"\"\n",
    "SELECT count(id) As \"Total Number of Complaints\", IncidentZip AS \"ZipCode\" FROM complaints\n",
    "Where CAST(CreatedDate AS DATE)>=\"2023-03-01\" and CAST(CreatedDate AS DATE)<='2024-02-29'\n",
    "GROUP BY IncidentZip\n",
    "ORDER BY count(id) desc\n",
    "\"\"\""
   ]
  },
  {
   "cell_type": "code",
   "execution_count": null,
   "id": "c5275f3a",
   "metadata": {},
   "outputs": [],
   "source": [
    "engine.execute(QUERY_1).fetchall()"
   ]
  },
  {
   "cell_type": "code",
   "execution_count": null,
   "id": "a2ef04df",
   "metadata": {},
   "outputs": [],
   "source": [
    "write_query_to_file(QUERY_1, QUERY_1_FILENAME)"
   ]
  },
  {
   "cell_type": "markdown",
   "id": "ee70a777",
   "metadata": {},
   "source": [
    "### Query 2"
   ]
  },
  {
   "cell_type": "code",
   "execution_count": null,
   "id": "41d412f8",
   "metadata": {},
   "outputs": [],
   "source": [
    "QUERY_2_FILENAME = \"top_10_zipcodes_by_trees.sql\"\n",
    "\n",
    "QUERY_2 = \"\"\"\n",
    "SELECT count(tree_id) As \"Total Number of Trees\", zipcode AS \"ZipCode\" FROM trees GROUP BY zipcode\n",
    "ORDER BY count(tree_id) desc LIMIT 10\n",
    "\"\"\""
   ]
  },
  {
   "cell_type": "code",
   "execution_count": null,
   "id": "e81001e3",
   "metadata": {},
   "outputs": [],
   "source": [
    "engine.execute(QUERY_2).fetchall()"
   ]
  },
  {
   "cell_type": "code",
   "execution_count": null,
   "id": "e43e12f4",
   "metadata": {},
   "outputs": [],
   "source": [
    "write_query_to_file(QUERY_2, QUERY_2_FILENAME)"
   ]
  },
  {
   "cell_type": "markdown",
   "id": "9f6b6006",
   "metadata": {},
   "source": [
    "### Query 3"
   ]
  },
  {
   "cell_type": "code",
   "execution_count": null,
   "id": "b14f0afb",
   "metadata": {},
   "outputs": [],
   "source": [
    "QUERY_3_FILENAME = \"average_rent_in_top_tree_zipcodes.sql\"\n",
    "\n",
    "QUERY_3 = \"\"\"\n",
    "SELECT count(t.tree_id) As \"Total Number of Trees\", round(AVG(r.2024-01-31),2) AS \"Rent\" FROM trees t JOIN\n",
    "rent r on t.zipcode=r.RegionName\n",
    "Where t.zipcode in (SELECT zipcode FROM trees GROUP BY zipcode\n",
    "ORDER BY count(tree_id) desc LIMIT 10)\n",
    "GROUP BY t.zipcode\n",
    "ORDER BY count(t.tree_id)desc\n",
    "\"\"\""
   ]
  },
  {
   "cell_type": "code",
   "execution_count": null,
   "id": "7a419dc6",
   "metadata": {},
   "outputs": [],
   "source": [
    "engine.execute(QUERY_3).fetchall()"
   ]
  },
  {
   "cell_type": "code",
   "execution_count": null,
   "id": "8f61691e",
   "metadata": {},
   "outputs": [],
   "source": [
    "write_query_to_file(QUERY_3, QUERY_3_FILENAME)"
   ]
  },
  {
   "cell_type": "markdown",
   "id": "15c9e011",
   "metadata": {},
   "source": [
    "### Query 4"
   ]
  },
  {
   "cell_type": "code",
   "execution_count": null,
   "id": "a3ef232b",
   "metadata": {},
   "outputs": [],
   "source": [
    "QUERY_4_FILENAME = \"rent_tree_complaint_correlation.sql\"\n",
    "\n",
    "QUERY_4 = \"\"\"\n",
    "(SELECT c.IncidentZip AS \"ZipCode\", round(AVG(r.2024-01-31),2) AS \"Average Rent\",count(t.tree_id) AS \"Total Number of Trees\", count(c.id) As \"Total Number of Complaints\" FROM complaints c\n",
    "RIGHTJOIN rent r on c.IncidentZip=r.RegionName LEFT JOIN trees t on t.zipcode=r.RegionName\n",
    "GROUP BY c.IncidentZip\n",
    "ORDER BY round(AVG(r.2024-01-31),2) desc LIMIT 5)\n",
    "UNION\n",
    "(SELECT c.IncidentZip AS \"ZipCode\", round(AVG(r.2024-01-31),2) AS \"Average Rent\",COUNT(COALESCE(t.tree_id, 0)) AS \"Total Number of Trees\", COUNT(COALESCE(c.id, 0)) As \"Total Number of Complaints\" FROM complaints c\n",
    "RIGHT JOIN rent r on c.IncidentZip=r.RegionName LEFT JOIN trees t on t.zipcode=r.RegionName\n",
    "GROUP BY c.IncidentZip\n",
    "ORDER BY round(AVG(r.2024-01-31),2) asc LIMIT 5)\n",
    "\"\"\""
   ]
  },
  {
   "cell_type": "code",
   "execution_count": null,
   "id": "f17d0a76",
   "metadata": {},
   "outputs": [],
   "source": [
    "engine.execute(QUERY_4).fetchall()"
   ]
  },
  {
   "cell_type": "code",
   "execution_count": null,
   "id": "4499eb7a",
   "metadata": {},
   "outputs": [],
   "source": [
    "write_query_to_file(QUERY_4, QUERY_4_FILENAME)"
   ]
  },
  {
   "cell_type": "markdown",
   "id": "c0119d48",
   "metadata": {},
   "source": [
    "### Query 5"
   ]
  },
  {
   "cell_type": "code",
   "execution_count": null,
   "id": "8e2d0d9b",
   "metadata": {},
   "outputs": [],
   "source": [
    "QUERY_5_FILENAME = \"most_greenery_join.sql\"\n",
    "\n",
    "QUERY_5 = \"\"\"\n",
    "SELECT z.zipcode, COUNT(t.tree_id) AS total_trees\n",
    "FROM trees t\n",
    "JOIN zipcodes z ON ST_Contains(z.geom, ST_SetSRID(ST_MakePoint(t.longitude, t.Latitude), 4326))\n",
    "GROUP BY z.zipcode\n",
    "ORDER BY total_trees DESC\n",
    "LIMIT 10;\n",
    "\"\"\""
   ]
  },
  {
   "cell_type": "code",
   "execution_count": null,
   "id": "18dc14bb",
   "metadata": {},
   "outputs": [],
   "source": [
    "engine.execute(QUERY_5).fetchall()"
   ]
  },
  {
   "cell_type": "code",
   "execution_count": null,
   "id": "ab45a65e",
   "metadata": {},
   "outputs": [],
   "source": [
    "write_query_to_file(QUERY_5, QUERY_5_FILENAME)"
   ]
  },
  {
   "cell_type": "markdown",
   "id": "63fe57e7",
   "metadata": {},
   "source": [
    "### Query 6"
   ]
  },
  {
   "cell_type": "code",
   "execution_count": null,
   "id": "58259816",
   "metadata": {},
   "outputs": [],
   "source": [
    "pip install shapely\n",
    "from shapely.geometry import Point\n",
    "import pyproj\n",
    "\n",
    "# Define the point and buffer radius in meters\n",
    "latitude, longitude = 40.80737875669467, -73.96253174434912\n",
    "buffer_radius_miles = 0.5\n",
    "\n",
    "# Convert buffer radius from miles to meters\n",
    "buffer_radius_meters = buffer_radius_miles * 1609.34\n",
    "\n",
    "# Define the coordinate reference system (CRS) for WGS 84 (EPSG:4326)\n",
    "crs_wgs84 = pyproj.CRS(\"EPSG:4326\")\n",
    "\n",
    "# Create a point geometry\n",
    "point = Point(longitude, latitude)\n",
    "\n",
    "# Project the point to a local CRS in meters (e.g., EPSG:3857)\n",
    "crs_local = pyproj.CRS(\"EPSG:3857\")\n",
    "projected_point = pyproj.Transformer.from_crs(crs_wgs84, crs_local, always_xy=True).transform(point.x, point.y)\n",
    "\n",
    "# Create a buffer around the point\n",
    "buffered_point = Point(projected_point).buffer(buffer_radius_meters)\n",
    "\n",
    "# Convert the buffer to WKT format\n",
    "buffer_wkt = buffered_point.wkt\n",
    "\n",
    "QUERY_6_FILENAME = \"trees_within_half_mile_radius.sql\"\n",
    "\n",
    "QUERY_6 = \"\"\"\n",
    "SELECT\n",
    "    tree_id, spc_latin, health, status, ST_AsText(the_geom) AS location\n",
    "FROM\n",
    "    trees\n",
    "WHERE\n",
    "    ST_DWithin(the_geom::geography, ST_SetSRID(ST_GeomFromText('POINT(-73.96253174434912 40.80737875669467)'), 4326)::geography, 804.67) = TRUE\n",
    "    \"\"\"\n"
   ]
  },
  {
   "cell_type": "code",
   "execution_count": null,
   "id": "df1ae4da",
   "metadata": {},
   "outputs": [],
   "source": [
    "engine.execute(QUERY_6).fetchall()"
   ]
  },
  {
   "cell_type": "code",
   "execution_count": null,
   "id": "4acf8b8c",
   "metadata": {},
   "outputs": [],
   "source": [
    "write_query_to_file(QUERY_6, QUERY_6_FILENAME)"
   ]
  },
  {
   "cell_type": "code",
   "execution_count": null,
   "id": "30d9d41c",
   "metadata": {},
   "outputs": [],
   "source": [
    "psql --dbname groupNproject -f query.sql"
   ]
  },
  {
   "cell_type": "markdown",
   "id": "a13ced42",
   "metadata": {},
   "source": [
    "## Part 4: Visualizing the Data"
   ]
  },
  {
   "cell_type": "markdown",
   "id": "6d9eef42",
   "metadata": {},
   "source": [
    "### Visualization 1"
   ]
  },
  {
   "cell_type": "code",
   "execution_count": null,
   "id": "847ced2f",
   "metadata": {},
   "outputs": [],
   "source": [
    "def get_data_for_visual_1():\n",
    "    conn = sqlite3.connect('Project_Database.db')\n",
    "    \n",
    "    # Define your SQL query\n",
    "    sql_query = \"\"\"\n",
    "    SELECT count(id) As \"Total Number of Complaints\", complaint_type\"Type\" FROM complaints\n",
    "    Where CAST(created_date AS DATE)>=\"2023-03-01\" and CAST(created_date AS DATE)<='2024-02-29'\n",
    "    GROUP BY complaint_type\n",
    "    ORDER BY count(id) desc\n",
    "    LIMIT 3\n",
    "    \"\"\"\n",
    "    \n",
    "    # Execute the query and fetch the results into a DataFrame\n",
    "    data = pd.read_sql_query(sql_query, conn)\n",
    "    \n",
    "    # Close the database connection\n",
    "    conn.close()\n",
    "    \n",
    "    return data\n"
   ]
  },
  {
   "cell_type": "code",
   "execution_count": null,
   "id": "0de8394c",
   "metadata": {},
   "outputs": [],
   "source": [
    "def plot_visual_1(dataframe):\n",
    "    conn = sqlite3.connect('Project_Database.db')\n",
    "    dates = pd.date_range(start='2023-03-01', end='2024-02-29')\n",
    "    data = []\n",
    "    for complaint_type in dataframe['complaint_type']:\n",
    "        sql_query = f\"\"\"\n",
    "        SELECT created_date, COUNT(id) AS daily_complaints\n",
    "        FROM complaints\n",
    "        WHERE created_date BETWEEN '2023-03-01' AND '2024-02-29'\n",
    "        AND complaint_type = '{complaint_type}'\n",
    "        GROUP BY created_date\n",
    "        \"\"\"\n",
    "        df = pd.read_sql_query(sql_query, conn)\n",
    "        df.set_index('created_date', inplace=True)\n",
    "        data.append(df.reindex(dates).fillna(0)['daily_complaints'])\n",
    "    \n",
    "    # Calculate the total number of complaints for the top 3 complaint types for each day\n",
    "    total_complaints = sum(data)\n",
    "    \n",
    "    conn.close()\n",
    "    \n",
    "    plt.figure(figsize=(15, 8))\n",
    "    plt.plot(dates, total_complaints, label='Total Complaints', color='black', linewidth=2, linestyle='--')\n",
    "    plt.title('Number of Complaints per Day for Top 3 Complaint Types')\n",
    "    plt.xlabel('Date')\n",
    "    plt.ylabel('Number of Complaints')\n",
    "    plt.grid(True)\n",
    "    plt.legend(title='Complaint Type', loc='upper right')\n",
    "    plt.show()"
   ]
  },
  {
   "cell_type": "code",
   "execution_count": null,
   "id": "3c63e845",
   "metadata": {},
   "outputs": [],
   "source": [
    "some_dataframe = get_data_for_visual_1()\n",
    "plot_visual_1(some_dataframe)"
   ]
  },
  {
   "cell_type": "markdown",
   "id": "87416880",
   "metadata": {},
   "source": [
    "### Visualization 2"
   ]
  },
  {
   "cell_type": "code",
   "execution_count": null,
   "id": "2e267c7e",
   "metadata": {},
   "outputs": [],
   "source": []
  },
  {
   "cell_type": "code",
   "execution_count": null,
   "id": "9cbf750c",
   "metadata": {},
   "outputs": [],
   "source": []
  },
  {
   "cell_type": "code",
   "execution_count": null,
   "id": "e698d84b",
   "metadata": {},
   "outputs": [],
   "source": []
  },
  {
   "cell_type": "markdown",
   "id": "cc132dae",
   "metadata": {},
   "source": [
    "### Visualization 3"
   ]
  },
  {
   "cell_type": "code",
   "execution_count": null,
   "id": "d9d85a53",
   "metadata": {},
   "outputs": [],
   "source": []
  },
  {
   "cell_type": "code",
   "execution_count": null,
   "id": "4c62280f",
   "metadata": {},
   "outputs": [],
   "source": []
  },
  {
   "cell_type": "code",
   "execution_count": null,
   "id": "855dae8d",
   "metadata": {},
   "outputs": [],
   "source": []
  },
  {
   "cell_type": "markdown",
   "id": "2e707712",
   "metadata": {},
   "source": [
    "### Visualization 4"
   ]
  },
  {
   "cell_type": "code",
   "execution_count": null,
   "id": "a9cb3cb5",
   "metadata": {},
   "outputs": [],
   "source": []
  },
  {
   "cell_type": "code",
   "execution_count": null,
   "id": "2a0eb139",
   "metadata": {},
   "outputs": [],
   "source": []
  },
  {
   "cell_type": "code",
   "execution_count": null,
   "id": "8fa36e96",
   "metadata": {},
   "outputs": [],
   "source": []
  },
  {
   "cell_type": "markdown",
   "id": "31b51836",
   "metadata": {},
   "source": [
    "### Visualization 5"
   ]
  },
  {
   "cell_type": "code",
   "execution_count": null,
   "id": "b667434b",
   "metadata": {},
   "outputs": [],
   "source": []
  },
  {
   "cell_type": "code",
   "execution_count": null,
   "id": "68137177",
   "metadata": {},
   "outputs": [],
   "source": []
  },
  {
   "cell_type": "code",
   "execution_count": null,
   "id": "4bd7ea1e",
   "metadata": {},
   "outputs": [],
   "source": []
  },
  {
   "cell_type": "markdown",
   "id": "febb3fbd",
   "metadata": {},
   "source": [
    "### Visualization 6"
   ]
  },
  {
   "cell_type": "code",
   "execution_count": null,
   "id": "0daaf093",
   "metadata": {},
   "outputs": [],
   "source": []
  },
  {
   "cell_type": "code",
   "execution_count": null,
   "id": "76bd14bd",
   "metadata": {},
   "outputs": [],
   "source": []
  },
  {
   "cell_type": "code",
   "execution_count": null,
   "id": "498d2559",
   "metadata": {},
   "outputs": [],
   "source": []
  }
 ],
 "metadata": {
  "kernelspec": {
   "display_name": "Python 3 (ipykernel)",
   "language": "python",
   "name": "python3"
  },
  "language_info": {
   "codemirror_mode": {
    "name": "ipython",
    "version": 3
   },
   "file_extension": ".py",
   "mimetype": "text/x-python",
   "name": "python",
   "nbconvert_exporter": "python",
   "pygments_lexer": "ipython3",
   "version": "3.11.4"
  }
 },
 "nbformat": 4,
 "nbformat_minor": 5
}
